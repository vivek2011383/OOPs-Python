{
 "cells": [
  {
   "cell_type": "markdown",
   "metadata": {},
   "source": [
    "THEORY QUESTIONS"
   ]
  },
  {
   "cell_type": "markdown",
   "metadata": {},
   "source": [
    "1. What is Object-Oriented Programming (OOP)?\n",
    "    - Object-Oriented Programming (OOP) is a programming paradigm based on the concept of objects, which are instances of classes. It organizes code into reusable structures that bundle data and behavior together.\n",
    "\n",
    "2. What is a class in OOP?\n",
    "    - In Object-Oriented Programming (OOP), a class is a blueprint or template for creating objects. It defines the properties (attributes) and behaviors (methods) that objects of that class will have.\n",
    "\n",
    "3. What is an object in OOP?\n",
    "    - An object is an instance of a class in Object-Oriented Programming (OOP). It represents a real-world entity with attributes (data) and methods (behavior).\n",
    "\n",
    "4. What is the difference between abstraction and encapsulation?\n",
    "    - Abstraction: Hides implementation details and shows only relevant features. Example: A user interacts with an ATM without knowing its internal code. \n",
    "    - Encapsulation: Hides data by restricting direct access and controlling modification. Example: The balance in a bank account is private and can be changed only through specific methods. \n",
    "\n",
    "5. What are dunder methods in Python?\n",
    "    - Dunder methods (short for Double UNDERscore methods) are special methods in Python that have double underscores (__) at the beginning and end of their names. These methods allow objects to behave in certain predefined ways and enable operator overloading, customization, and object interaction with built-in Python functions.\n"
   ]
  },
  {
   "cell_type": "code",
   "execution_count": 2,
   "metadata": {},
   "outputs": [
    {
     "name": "stdout",
     "output_type": "stream",
     "text": [
      "Walking on four legs\n",
      "Swimming in water\n"
     ]
    }
   ],
   "source": [
    "\"\"\"\n",
    "6. Explain the concept of inheritance in OOP.\n",
    "    - Inheritance is an OOP concept that allows a child class (subclass) to inherit properties and behaviors from a parent class (superclass). This promotes code reuse, modularity, and maintainability by avoiding redundancy.\n",
    "\"\"\"\n",
    "class Walker:\n",
    "    def walk(self):\n",
    "        return \"Walking on four legs\"\n",
    "\n",
    "class Swimmer:\n",
    "    def swim(self):\n",
    "        return \"Swimming in water\"\n",
    "\n",
    "class Amphibian(Walker, Swimmer):  # Inheriting from multiple classes\n",
    "    pass\n",
    "\n",
    "frog = Amphibian()\n",
    "print(frog.walk())  # Output: Walking on four legs\n",
    "print(frog.swim())  # Output: Swimming in water"
   ]
  },
  {
   "cell_type": "code",
   "execution_count": 1,
   "metadata": {},
   "outputs": [
    {
     "name": "stdout",
     "output_type": "stream",
     "text": [
      "Woof!\n",
      "Meow!\n"
     ]
    }
   ],
   "source": [
    "'''\n",
    "7. What is polymorphism in OOP?\n",
    "    - Polymorphism (Greek: poly = many, morph = forms) is an OOP concept that allows objects of different classes to be treated as objects of a common superclass. It enables one interface with multiple implementations, improving flexibility and code reusability.\n",
    "'''\n",
    "\n",
    "class Animal:\n",
    "    def make_sound(self):\n",
    "        return \"Some generic sound\"\n",
    "\n",
    "class Dog(Animal):\n",
    "    def make_sound(self):\n",
    "        return \"Woof!\"\n",
    "\n",
    "class Cat(Animal):\n",
    "    def make_sound(self):\n",
    "        return \"Meow!\"\n",
    "\n",
    "# Polymorphism in action\n",
    "animals = [Dog(), Cat()]\n",
    "\n",
    "for animal in animals:\n",
    "    print(animal.make_sound())  # Output: Woof! Meow!\n"
   ]
  },
  {
   "cell_type": "markdown",
   "metadata": {},
   "source": [
    "8. How is encapsulation achieved in Python?\n",
    "    - Encapsulation in Python is achieved through the use of private and protected access specifiers.\n",
    "    - Protected (_variable): A single underscore before a variable (e.g., _var) indicates that it is intended for internal use but can still be accessed.\n",
    "    - Private (__variable): A double underscore before a variable (e.g., __var) invokes name mangling, making it harder to access directly from outside the class.\n",
    "\n",
    "9.  What is a constructor in Python?\n",
    "    - A constructor in Python is a special method called __init__ that is automatically invoked when an object of a class is created. It is used to initialize the object's attributes.\n",
    "\n",
    "10. What are class and static methods in Python?\n",
    "    - In Python, class methods and static methods are used to define methods that are not tied to an instance but still belong to a class. They are defined using decorators:\n",
    "\n",
    "    @classmethod → Works with the class (cls) instead of an instance.\n",
    "    @staticmethod → Does not access the instance (self) or class (cls).\n",
    "\n",
    "11. What is method overloading in Python?\n",
    "    - Method overloading is a concept where multiple methods in the same class have the same name but different parameters (number or type).\n"
   ]
  },
  {
   "cell_type": "code",
   "execution_count": 1,
   "metadata": {},
   "outputs": [
    {
     "name": "stdout",
     "output_type": "stream",
     "text": [
      "This is the Parent class method\n",
      "This is the Child class method\n"
     ]
    }
   ],
   "source": [
    "'''\n",
    "12. What is method overriding in OOP?\n",
    "    - Method overriding is a concept in Object-Oriented Programming (OOP) where a subclass provides a specific implementation of a method that is already defined in its superclass. The method in the subclass must have the same name, return type, and parameters as in the superclass.\n",
    "'''\n",
    "class Parent:\n",
    "    def show(self):\n",
    "        print(\"This is the Parent class method\")\n",
    "\n",
    "class Child(Parent):\n",
    "    def show(self):  # Overriding the parent class method\n",
    "        print(\"This is the Child class method\")\n",
    "\n",
    "# Creating objects\n",
    "obj1 = Parent()\n",
    "obj2 = Child()\n",
    "\n",
    "# Calling methods\n",
    "obj1.show()  # Output: This is the Parent class method\n",
    "obj2.show()  # Output: This is the Child class method (Overridden)\n",
    "\n"
   ]
  },
  {
   "cell_type": "markdown",
   "metadata": {},
   "source": [
    "13. What is a property decorator in Python?\n",
    "    - The @property decorator in Python is used to define getter methods in an object-oriented way. It allows a method to be accessed like an attribute, making the code more readable and Pythonic.\n",
    "\n",
    "14. Why is polymorphism important in OOP?\n",
    "    - It allows objects of different classes to be treated as objects of a common superclass, enabling code reusability, flexibility, and scalability.\n",
    "\n",
    "15. What is an abstract class in Python?\n",
    "    - An abstract class in Python is a class that cannot be instantiated directly. It serves as a blueprint for other classes and typically contains one or more abstract methods that must be implemented by subclasses.\n",
    "\n",
    "    - Python provides abstract classes through the abc (Abstract Base Class) module.\n",
    "\n",
    "16. What are the advantages of OOP?\n",
    "    - OOP allows you to reuse existing code through inheritance. It avoids duplicate code and promotes reuse.\n",
    "    - Encapsulation: protects the data by restricting access to internal variables and methods. It prevents accidental modification of data and ensures data integrity. \n",
    "    - Polymorphism: allows different classes to be treated as instances of the same parent class. This promotes flexibility and scalability in code design.\n",
    "    - Abstraction: allows you to hide complex implementation details and expose only necessary functionality. This simplifies code usage and enhances readability.\n",
    "    - OOP enables large projects to be broken into smaller, manageable modules. Teams can collaborate efficiently, each working on different classes.\n",
    "\n",
    "17. What is the difference between a class variable and an instance variable?\n",
    "    - Class Variable: Shared variable for all instances of a class. It is stored in class memory (one copy for all objects). It can be accessed using \"ClassName.variable\" or \"self.variable\"\n",
    "    - Instance variable: Unique variable for each instance. It is stored in instance memory (separate copy for each object). It is accessed using self.variable\n"
   ]
  },
  {
   "cell_type": "code",
   "execution_count": null,
   "metadata": {},
   "outputs": [
    {
     "name": "stdout",
     "output_type": "stream",
     "text": [
      "Method from Parent1\n",
      "Method from Parent2\n",
      "Method from Child\n"
     ]
    }
   ],
   "source": [
    "\"\"\"\n",
    "18. What is multiple inheritance in Python?\n",
    "    - Multiple inheritance is a feature in Python where a class can inherit from more than one parent class. This allows a child class to acquire attributes and methods from multiple base classes.\n",
    "\"\"\"\n",
    "class Parent1:\n",
    "    def method1(self):\n",
    "        print(\"Method from Parent1\")\n",
    "\n",
    "class Parent2:\n",
    "    def method2(self):\n",
    "        print(\"Method from Parent2\")\n",
    "\n",
    "class Child(Parent1, Parent2):\n",
    "    def method3(self):\n",
    "        print(\"Method from Child\")\n",
    "\n",
    "# Creating an instance of Child\n",
    "obj = Child()\n",
    "obj.method1()  # Inherited from Parent1\n",
    "obj.method2()  # Inherited from Parent2\n",
    "obj.method3()  # Defined in Child"
   ]
  },
  {
   "cell_type": "markdown",
   "metadata": {},
   "source": [
    "19. Explain the purpose of ‘__str__’ and ‘__repr__’ methods in Python.\n",
    "    - The __str__ method is meant to return a human-readable or user-friendly string representation of an object.\n",
    "    - The __repr__ method is meant to return an unambiguous string representation of the object, typically used for debugging.\n",
    "\n",
    "20. What is the significance of the ‘super()’ function in Python?\n",
    "    - The super() function is used in object-oriented programming to call methods from a parent (or superclass) class inside a child class. It is especially useful in inheritance, particularly when working with multiple inheritance.\n",
    "\n",
    "21. What is the significance of the __del__ method in Python?\n",
    "    - The __del__ method, also known as the destructor, is a special method in Python that is called when an object is about to be destroyed. It is used to clean up resources, such as closing files, releasing memory, or disconnecting from a database.\n",
    "\n",
    "22. What is the difference between @staticmethod and @classmethod in Python?\n",
    "    - @classmethod → Works with the class (cls) instead of an instance. It can modify class attributes.\n",
    "    - @staticmethod → Does not access the instance (self) or class (cls). It cannot modify class or instance attributes.\n",
    "\n",
    "23. How does polymorphism work in Python with inheritance?\n",
    "    - Polymorphism is an object-oriented programming (OOP) concept that allows objects of different classes to be treated as objects of a common base class. In Python, polymorphism works through method overriding and method overloading (via default arguments or *args).\n",
    "\n",
    "24. What is method chaining in Python OOP?\n",
    "    - Method Chaining is a technique in Object-Oriented Programming (OOP) where multiple methods are called on the same object in a single statement. This is achieved by having each method return self (the instance of the class), allowing the next method to be invoked directly.\n",
    "\n",
    "25. What is the purpose of the __call__ method in Python?\n",
    "    - The __call__ method in Python allows an instance of a class to be called like a function. This means that when an object is followed by parentheses (), Python automatically invokes the __call__ method."
   ]
  },
  {
   "cell_type": "markdown",
   "metadata": {},
   "source": [
    "PRACTICAL QUESTIONS"
   ]
  },
  {
   "cell_type": "code",
   "execution_count": 7,
   "metadata": {},
   "outputs": [
    {
     "name": "stdout",
     "output_type": "stream",
     "text": [
      "This animal makes a sound.\n",
      "Bark!\n"
     ]
    }
   ],
   "source": [
    "#1.  Create a parent class Animal with a method speak() that prints a generic message. Create a child class Dog that overrides the speak() method to print \"Bark!\". \n",
    "\n",
    "class Animal:\n",
    "    def speak(self):\n",
    "        print(\"This animal makes a sound.\")\n",
    "\n",
    "class Dog(Animal):\n",
    "    def speak(self):\n",
    "        print(\"Bark!\")\n",
    "\n",
    "new_animal = Animal()\n",
    "new_animal.speak()\n",
    "\n",
    "new_dog = Dog()\n",
    "new_dog.speak()"
   ]
  },
  {
   "cell_type": "code",
   "execution_count": 14,
   "metadata": {},
   "outputs": [
    {
     "name": "stdout",
     "output_type": "stream",
     "text": [
      "Circle area:  78.53981633974483\n",
      "Rectangle area:  24\n"
     ]
    }
   ],
   "source": [
    "#2.  Write a program to create an abstract class Shape with a method area(). Derive classes Circle and Rectangle from it and implement the area() method in both.\n",
    "\n",
    "from abc import ABC, abstractmethod\n",
    "import math\n",
    "\n",
    "class Shape(ABC):\n",
    "    @abstractmethod\n",
    "    def area(self):\n",
    "        pass\n",
    "\n",
    "class Circle(Shape):\n",
    "    def __init__(self,radius):\n",
    "        self.radius = radius\n",
    "\n",
    "    def area(self):\n",
    "        return math.pi * self.radius**2\n",
    "    \n",
    "class Rectangle(Shape):\n",
    "    def __init__(self, width, height):\n",
    "        self.width = width\n",
    "        self.height = height\n",
    "\n",
    "    def area(self):\n",
    "        return self.width*self.height\n",
    "    \n",
    "#Testing the classes\n",
    "circle = Circle(5)\n",
    "rectangle = Rectangle(4, 6)\n",
    "\n",
    "print(\"Circle area: \", circle.area())\n",
    "print(\"Rectangle area: \", rectangle.area())"
   ]
  },
  {
   "cell_type": "code",
   "execution_count": 16,
   "metadata": {},
   "outputs": [
    {
     "name": "stdout",
     "output_type": "stream",
     "text": [
      "Car\n",
      "Tesla\n",
      "100kWh\n"
     ]
    }
   ],
   "source": [
    "#3. Implement a multi-level inheritance scenario where a class Vehicle has an attribute type. Derive a class Car and further derive a class ElectricCar that adds a battery attribute.\n",
    "\n",
    "class Vehicle:\n",
    "    def __init__(self, vehicle_type):\n",
    "        self.vehicle_type = vehicle_type\n",
    "\n",
    "    def display_vehicle_info(self):\n",
    "        print(self.vehicle_type)\n",
    "\n",
    "class Car(Vehicle):\n",
    "    def __init__(self, vehicle_type, brand):\n",
    "        super().__init__(vehicle_type)\n",
    "        self.brand = brand\n",
    "\n",
    "    def display_car_info(self):\n",
    "        self.display_vehicle_info()\n",
    "        print(self.brand)\n",
    "\n",
    "class ElectricCar(Car):\n",
    "    def __init__(self, vehicle_type, brand, battery):\n",
    "        super().__init__(vehicle_type, brand)\n",
    "        self.battery = battery\n",
    "\n",
    "    def display_electric_car_info(self):\n",
    "        self.display_car_info()\n",
    "        print(self.battery)\n",
    "\n",
    "#Testing the multi-level inheritence\n",
    "tesla = ElectricCar(\"Car\", \"Tesla\", \"100kWh\")\n",
    "tesla.display_electric_car_info()"
   ]
  },
  {
   "cell_type": "code",
   "execution_count": 1,
   "metadata": {},
   "outputs": [
    {
     "name": "stdout",
     "output_type": "stream",
     "text": [
      "Car\n",
      "Tesla\n",
      "100kWh\n"
     ]
    }
   ],
   "source": [
    "#4. Implement a multi-level inheritance scenario where a class Vehicle has an attribute type. Derive a class Car and further derive a class ElectricCar that adds a battery attribute.\n",
    "\n",
    "class Vehicle:\n",
    "    def __init__(self, vehicle_type):\n",
    "        self.vehicle_type = vehicle_type\n",
    "\n",
    "    def display_vehicle_info(self):\n",
    "        print(self.vehicle_type)\n",
    "\n",
    "class Car(Vehicle):\n",
    "    def __init__(self, vehicle_type, brand):\n",
    "        super().__init__(vehicle_type)\n",
    "        self.brand = brand\n",
    "\n",
    "    def display_car_info(self):\n",
    "        self.display_vehicle_info()\n",
    "        print(self.brand)\n",
    "\n",
    "class ElectricCar(Car):\n",
    "    def __init__(self, vehicle_type, brand, battery):\n",
    "        super().__init__(vehicle_type, brand)\n",
    "        self.battery = battery\n",
    "\n",
    "    def display_electric_car_info(self):\n",
    "        self.display_car_info()\n",
    "        print(self.battery)\n",
    "\n",
    "#Testing the multi-level inheritence\n",
    "tesla = ElectricCar(\"Car\", \"Tesla\", \"100kWh\")\n",
    "tesla.display_electric_car_info()"
   ]
  },
  {
   "cell_type": "code",
   "execution_count": 4,
   "metadata": {},
   "outputs": [
    {
     "name": "stdout",
     "output_type": "stream",
     "text": [
      "Deposited:  400 , New Balance:  1400\n",
      "Withdrew 300. New balance: 1100\n",
      "Final balance:  1100\n"
     ]
    }
   ],
   "source": [
    "#5. Write a program to demonstrate encapsulation by creating a class BankAccount with private attributes balance and methods to deposit, withdraw, and check balance.\n",
    "\n",
    "class BankAccount:\n",
    "    def __init__(self, initial_balance=0):\n",
    "        self.__balance = initial_balance\n",
    "\n",
    "    def deposit(self, amount):\n",
    "        if amount > 0:\n",
    "            self.__balance += amount\n",
    "            print(\"Deposited: \",(amount),\",\",\"New Balance: \", (self.__balance))\n",
    "        else:\n",
    "            print(\"Deposit amount must be positive.\")\n",
    "\n",
    "    def withdraw(self, amount):\n",
    "        if amount > 0:\n",
    "            if amount <=self.__balance:\n",
    "                self.__balance -= amount\n",
    "                print(f\"Withdrew {amount}. New balance: {self.__balance}\")\n",
    "            else:\n",
    "                print(\"Insufficient Balance.\")\n",
    "        else:\n",
    "            print(\"Withdrawl amount must be positive.\")\n",
    "\n",
    "    def get_balance(self):\n",
    "        return self.__balance\n",
    "    \n",
    "account = BankAccount(1000)\n",
    "account.deposit(400)\n",
    "account.withdraw(300)\n",
    "print(\"Final balance: \", account.get_balance())"
   ]
  },
  {
   "cell_type": "code",
   "execution_count": 5,
   "metadata": {},
   "outputs": [
    {
     "name": "stdout",
     "output_type": "stream",
     "text": [
      "Strumming the guitar.\n",
      "Playing the piano.\n",
      "Playing some generic instrument sound.\n"
     ]
    }
   ],
   "source": [
    "#6. Demonstrate runtime polymorphism using a method play() in a base class Instrument. Derive classes Guitar and Piano that implement their own version of play().\n",
    "\n",
    "class Instrument:\n",
    "    def play(self):\n",
    "        print(\"Playing some generic instrument sound.\")\n",
    "\n",
    "class Guitar(Instrument):\n",
    "    def play(self):\n",
    "        print(\"Strumming the guitar.\")\n",
    "\n",
    "class Piano(Instrument):\n",
    "    def play(self):\n",
    "        print(\"Playing the piano.\")\n",
    "\n",
    "instruments = [Guitar(), Piano(), Instrument()]\n",
    "\n",
    "for instrument in instruments:\n",
    "    instrument.play()"
   ]
  },
  {
   "cell_type": "code",
   "execution_count": 7,
   "metadata": {},
   "outputs": [
    {
     "name": "stdout",
     "output_type": "stream",
     "text": [
      "Addition Result:  37\n",
      "Subraction Result:  16\n"
     ]
    }
   ],
   "source": [
    "#7. Create a class MathOperations with a class method add_numbers() to add two numbers and a static method subtract_numbers() to subtract two numbers.\n",
    "\n",
    "class MathOperations:\n",
    "    @classmethod\n",
    "    def add_numbers(cls, a, b):\n",
    "        return a+b\n",
    "    \n",
    "    @staticmethod\n",
    "    def subtract_numbers(a,b):\n",
    "        return a-b\n",
    "    \n",
    "add = MathOperations.add_numbers(10,27)\n",
    "print(\"Addition Result: \", add)\n",
    "\n",
    "subract = MathOperations.subtract_numbers(21, 5)\n",
    "print(\"Subraction Result: \", subract)"
   ]
  },
  {
   "cell_type": "code",
   "execution_count": 10,
   "metadata": {},
   "outputs": [
    {
     "name": "stdout",
     "output_type": "stream",
     "text": [
      "Total persons created:  3\n"
     ]
    }
   ],
   "source": [
    "#8.  Implement a class Person with a class method to count the total number of persons created.\n",
    "\n",
    "class Person:\n",
    "    total_persons = 0\n",
    "\n",
    "    def __init__(self, name, age):\n",
    "        self.name = name\n",
    "        self.age = age\n",
    "        Person.total_persons +=1\n",
    "\n",
    "    @classmethod\n",
    "    def count_persons(cls):\n",
    "        return cls.total_persons\n",
    "    \n",
    "\n",
    "person1 = Person(\"Raman\", 26)\n",
    "person2 = Person(\"Akash\", 32)\n",
    "person3 = Person(\"Lakshmi\", 19)\n",
    "\n",
    "print(\"Total persons created: \", Person .count_persons())"
   ]
  },
  {
   "cell_type": "code",
   "execution_count": 14,
   "metadata": {},
   "outputs": [
    {
     "name": "stdout",
     "output_type": "stream",
     "text": [
      "2/4\n"
     ]
    }
   ],
   "source": [
    "#9. Write a class Fraction with attributes numerator and denominator. Override the str method to display the fraction as \"numerator/denominator\".\n",
    "\n",
    "class Fraction:\n",
    "    def __init__(self, numerator, denominator):\n",
    "        self.numerator = numerator\n",
    "        self.denominator = denominator\n",
    "\n",
    "    def __str__(self):\n",
    "        return f\"{self.numerator}/{self.denominator}\"\n",
    "    \n",
    "    frac = Fraction(2,4)\n",
    "    print (frac)"
   ]
  },
  {
   "cell_type": "code",
   "execution_count": 2,
   "metadata": {},
   "outputs": [
    {
     "name": "stdout",
     "output_type": "stream",
     "text": [
      "Vector 5, 11\n"
     ]
    }
   ],
   "source": [
    "#10.  Demonstrate operator overloading by creating a class Vector and overriding the add method to add two vectors.\n",
    "\n",
    "class Vector:\n",
    "    def __init__(self, x,y):\n",
    "        self.x = x\n",
    "        self.y = y\n",
    "\n",
    "    def __add__(self, other):\n",
    "        if isinstance(other, Vector):\n",
    "            return Vector(self.x + other.x , self.y + other.y)\n",
    "        else:\n",
    "            raise TypeError(\"Operand must be of type Vector\")\n",
    "        \n",
    "    def __repr__(self):\n",
    "        return f\"Vector {self.x}, {self.y}\"\n",
    "    \n",
    "\n",
    "#Example usage:\n",
    "v1 = Vector(2,4)\n",
    "v2 = Vector(3,7)\n",
    "v3 = v1+v2\n",
    "print (v3)"
   ]
  },
  {
   "cell_type": "code",
   "execution_count": 12,
   "metadata": {},
   "outputs": [
    {
     "name": "stdout",
     "output_type": "stream",
     "text": [
      "Hello, my name is Raman and I am 25 years old.\n"
     ]
    }
   ],
   "source": [
    "#11. Create a class Person with attributes name and age. Add a method greet() that prints \"Hello, my name is {name} and I am {age} years old.\"  \n",
    "\n",
    "class Person:\n",
    "    def __init__(self, name, age):\n",
    "        self.name = name\n",
    "        self.age = age\n",
    "\n",
    "    def greet(self):\n",
    "        print(f\"Hello, my name is {self.name} and I am {self.age} years old.\")\n",
    "\n",
    "person_a = Person(\"Raman\",25)\n",
    "person_a.greet()"
   ]
  },
  {
   "cell_type": "code",
   "execution_count": 14,
   "metadata": {},
   "outputs": [
    {
     "name": "stdout",
     "output_type": "stream",
     "text": [
      "Manohar's average grade is 76.75\n"
     ]
    }
   ],
   "source": [
    "#12. Implement a class Student with attributes name and grades. Create a method average_grade() to compute the average of the grades. \n",
    "\n",
    "class Student:\n",
    "    def __init__(self, name, grades):\n",
    "        self.name = name\n",
    "        self.grades = grades\n",
    "\n",
    "    def average_grade(self):\n",
    "        if self.grades:\n",
    "            return sum(self.grades)/ len(self.grades)\n",
    "        return 0\n",
    "    \n",
    "student1 = Student(\"Manohar\", [85,54,78,90])\n",
    "print (f\"{student1.name}'s average grade is {student1.average_grade()}\")"
   ]
  },
  {
   "cell_type": "code",
   "execution_count": 15,
   "metadata": {},
   "outputs": [
    {
     "name": "stdout",
     "output_type": "stream",
     "text": [
      "Area of the rectangle: 40\n"
     ]
    }
   ],
   "source": [
    "#13. Create a class Rectangle with methods set_dimensions() to set the dimensions and area() to calculate the area.\n",
    "\n",
    "class Rectangle:\n",
    "    def __init__(self, length=0, width=0):\n",
    "        self.length = length\n",
    "        self.width = width\n",
    "\n",
    "    def set_dimensions(self, length, width):\n",
    "        self.length = length\n",
    "        self.width = width\n",
    "\n",
    "    def area(self):\n",
    "        return self.length*self.width\n",
    "    \n",
    "rect = Rectangle()\n",
    "rect.set_dimensions(5,8)\n",
    "print(f\"Area of the rectangle: {rect.area()}\")"
   ]
  },
  {
   "cell_type": "code",
   "execution_count": 20,
   "metadata": {},
   "outputs": [
    {
     "name": "stdout",
     "output_type": "stream",
     "text": [
      "Lakhan's salary: Rs.80000\n",
      "Uma's salary: Rs.121000\n"
     ]
    }
   ],
   "source": [
    "#14. Create a class Employee with a method calculate_salary() that computes the salary based on hours worked and hourly rate. Create a derived class Manager that adds a bonus to the salary.\n",
    "\n",
    "class Employee:\n",
    "    def __init__(self, name, hours_worked, hourly_rate):\n",
    "        self.name = name\n",
    "        self.hours_worked = hours_worked\n",
    "        self.hourly_rate = hourly_rate\n",
    "\n",
    "    def calculate_salary(self):\n",
    "        return self.hours_worked * self.hourly_rate\n",
    "\n",
    "class Manager(Employee):\n",
    "    def __init__(self, name, hours_worked, hourly_rate, bonus):\n",
    "        super().__init__(name, hours_worked, hourly_rate)\n",
    "        self.bonus = bonus\n",
    "\n",
    "    def calculate_salary(self):\n",
    "        return super().calculate_salary() + self.bonus\n",
    "    \n",
    "# Example usage:\n",
    "emp = Employee(\"Lakhan\", 40, 2000)\n",
    "print(f\"{emp.name}'s salary: Rs.{emp.calculate_salary()}\")\n",
    "\n",
    "mgr = Manager(\"Uma\", 40, 3000, 1000)\n",
    "print(f\"{mgr.name}'s salary: Rs.{mgr.calculate_salary()}\")"
   ]
  },
  {
   "cell_type": "code",
   "execution_count": 28,
   "metadata": {},
   "outputs": [
    {
     "name": "stdout",
     "output_type": "stream",
     "text": [
      "Total price of Laptops: Rs.90000\n"
     ]
    }
   ],
   "source": [
    "#15. Create a class Product with attributes name, price, and quantity. Implement a method total_price() that calculates the total price of the product.\n",
    "\n",
    "class Product:\n",
    "    def __init__(self, name, price, quantity):\n",
    "        self.name = name\n",
    "        self.price = price\n",
    "        self.quantity = quantity\n",
    "\n",
    "    def total_price(self):\n",
    "        return self.price * self.quantity\n",
    "    \n",
    "# Example usage:\n",
    "product1 = Product(\"Laptops\", 45000, 2)\n",
    "print(f\"Total price of {product1.name}: Rs.{product1.total_price()}\")"
   ]
  },
  {
   "cell_type": "code",
   "execution_count": null,
   "metadata": {},
   "outputs": [],
   "source": [
    "#16. Create a class Animal with an abstract method sound(). Create two derived classes Cow and Sheep that implement the sound() method.\n",
    "\n",
    "from abc import ABC, abstractmethod\n",
    "\n",
    "class Animal(ABC):\n",
    "    @abstractmethod\n",
    "    def sound(self):\n",
    "        pass\n",
    "\n",
    "class Cow(Animal):\n",
    "    def sound(self):\n",
    "        return \"Moo\"\n",
    "\n",
    "class Sheep(Animal):\n",
    "    def sound(self):\n",
    "        return \"Baa\"\n",
    "\n",
    "# Example usage:\n",
    "cow = Cow()\n",
    "sheep = Sheep()\n",
    "\n",
    "print(f\"Cow says: {cow.sound()}\")\n",
    "print(f\"Sheep says: {sheep.sound()}\")"
   ]
  },
  {
   "cell_type": "code",
   "execution_count": 31,
   "metadata": {},
   "outputs": [
    {
     "name": "stdout",
     "output_type": "stream",
     "text": [
      "'An Arranged Murder' by Chetan Bhagat, published in 2018.\n",
      "'Wings of Fire' by APJ Abdul Kalam, published in 1999.\n"
     ]
    }
   ],
   "source": [
    "#17. Create a class Book with attributes title, author, and year_published. Add a method get_book_info() that returns a formatted string with the book's details.\n",
    "\n",
    "class Book:\n",
    "    def __init__(self, title, author, year_published):\n",
    "        self.title = title\n",
    "        self.author = author\n",
    "        self.year_published = year_published\n",
    "\n",
    "    def get_book_info(self):\n",
    "        return f\"'{self.title}' by {self.author}, published in {self.year_published}.\"\n",
    "\n",
    "# Example usage:\n",
    "book1 = Book(\"An Arranged Murder\", \"Chetan Bhagat\", 2018)\n",
    "print(book1.get_book_info())\n",
    "\n",
    "book2 = Book(\"Wings of Fire\", \"APJ Abdul Kalam\", 1999)\n",
    "print(book2.get_book_info())"
   ]
  },
  {
   "cell_type": "code",
   "execution_count": 32,
   "metadata": {},
   "outputs": [
    {
     "name": "stdout",
     "output_type": "stream",
     "text": [
      "Address: 123 Main St, Price: $250000\n",
      "Address: 456 Luxury Ave, Price: $2000000, Rooms: 10\n"
     ]
    }
   ],
   "source": [
    "#18. Create a class House with attributes address and price. Create a derived class Mansion that adds an attribute number_of_rooms.\n",
    "\n",
    "class House:\n",
    "    def __init__(self, address, price):\n",
    "        self.address = address\n",
    "        self.price = price\n",
    "\n",
    "    def get_details(self):\n",
    "        return f\"Address: {self.address}, Price: ${self.price}\"\n",
    "\n",
    "class Mansion(House):\n",
    "    def __init__(self, address, price, number_of_rooms):\n",
    "        super().__init__(address, price)\n",
    "        self.number_of_rooms = number_of_rooms\n",
    "\n",
    "    def get_details(self):\n",
    "        return f\"Address: {self.address}, Price: ${self.price}, Rooms: {self.number_of_rooms}\"\n",
    "\n",
    "# Example usage:\n",
    "house1 = House(\"123 Main St\", 250000)\n",
    "print(house1.get_details())  \n",
    "\n",
    "mansion1 = Mansion(\"456 Luxury Ave\", 2000000, 10)\n",
    "print(mansion1.get_details())  "
   ]
  }
 ],
 "metadata": {
  "kernelspec": {
   "display_name": "Python 3",
   "language": "python",
   "name": "python3"
  },
  "language_info": {
   "codemirror_mode": {
    "name": "ipython",
    "version": 3
   },
   "file_extension": ".py",
   "mimetype": "text/x-python",
   "name": "python",
   "nbconvert_exporter": "python",
   "pygments_lexer": "ipython3",
   "version": "3.13.2"
  }
 },
 "nbformat": 4,
 "nbformat_minor": 2
}
